{
 "cells": [
  {
   "cell_type": "code",
   "execution_count": 2,
   "id": "a2c25ba2",
   "metadata": {},
   "outputs": [],
   "source": [
    "import basedosdados as bd\n",
    "import glob\n",
    "import pandas as pd\n",
    "#import matplotlib.pyplot as plt\n",
    "import numpy as np\n",
    "import os"
   ]
  },
  {
   "cell_type": "code",
   "execution_count": null,
   "id": "7a1cde71",
   "metadata": {},
   "outputs": [
    {
     "name": "stdout",
     "output_type": "stream",
     "text": [
      "Downloading:  73%|\u001b[32m███████▎  \u001b[0m|\n",
      "Downloading: 100%|\u001b[32m██████████\u001b[0m|\n"
     ]
    }
   ],
   "source": [
    "#Busca dados para o estado do RJ de 1995 em diante\n",
    "df = bd.read_sql(\n",
    "    '''\n",
    "    SELECT ano, sigla_uf, id_municipio,\n",
    "    quantidade_vinculos_ativos, quantidade_vinculos_clt, quantidade_vinculos_estatutarios,\n",
    "    cnae_2, cnae_2_subclasse, cnae_1,\n",
    "    FROM  basedosdados.br_me_rais.microdados_estabelecimentos\n",
    "    WHERE ano > 1994 AND quantidade_vinculos_ativos > 0\n",
    "    AND sigla_uf = 'RJ'\n",
    "    ''',\n",
    "    billing_project_id=''\n",
    ")\n",
    "arquivo = 'rais_RJ.parquet'\n",
    "df.to_parquet(arquivo)"
   ]
  },
  {
   "cell_type": "code",
   "execution_count": 5,
   "id": "1bc01de9",
   "metadata": {},
   "outputs": [],
   "source": [
    "df = pd.read_parquet('rais_RJ.parquet')"
   ]
  },
  {
   "cell_type": "code",
   "execution_count": 6,
   "id": "e7658369",
   "metadata": {},
   "outputs": [
    {
     "data": {
      "text/html": [
       "<div>\n",
       "<style scoped>\n",
       "    .dataframe tbody tr th:only-of-type {\n",
       "        vertical-align: middle;\n",
       "    }\n",
       "\n",
       "    .dataframe tbody tr th {\n",
       "        vertical-align: top;\n",
       "    }\n",
       "\n",
       "    .dataframe thead th {\n",
       "        text-align: right;\n",
       "    }\n",
       "</style>\n",
       "<table border=\"1\" class=\"dataframe\">\n",
       "  <thead>\n",
       "    <tr style=\"text-align: right;\">\n",
       "      <th></th>\n",
       "      <th>ano</th>\n",
       "      <th>sigla_uf</th>\n",
       "      <th>id_municipio</th>\n",
       "      <th>quantidade_vinculos_ativos</th>\n",
       "      <th>quantidade_vinculos_clt</th>\n",
       "      <th>quantidade_vinculos_estatutarios</th>\n",
       "      <th>cnae_2</th>\n",
       "      <th>cnae_2_subclasse</th>\n",
       "      <th>cnae_1</th>\n",
       "    </tr>\n",
       "  </thead>\n",
       "  <tbody>\n",
       "    <tr>\n",
       "      <th>6462152</th>\n",
       "      <td>2023</td>\n",
       "      <td>RJ</td>\n",
       "      <td>3303401</td>\n",
       "      <td>11</td>\n",
       "      <td>11</td>\n",
       "      <td>0</td>\n",
       "      <td>81125</td>\n",
       "      <td>8112500</td>\n",
       "      <td>70408</td>\n",
       "    </tr>\n",
       "    <tr>\n",
       "      <th>6462153</th>\n",
       "      <td>2023</td>\n",
       "      <td>RJ</td>\n",
       "      <td>3304557</td>\n",
       "      <td>11</td>\n",
       "      <td>11</td>\n",
       "      <td>0</td>\n",
       "      <td>81125</td>\n",
       "      <td>8112500</td>\n",
       "      <td>70408</td>\n",
       "    </tr>\n",
       "    <tr>\n",
       "      <th>6462154</th>\n",
       "      <td>2023</td>\n",
       "      <td>RJ</td>\n",
       "      <td>3304557</td>\n",
       "      <td>11</td>\n",
       "      <td>11</td>\n",
       "      <td>0</td>\n",
       "      <td>69206</td>\n",
       "      <td>6920601</td>\n",
       "      <td>74128</td>\n",
       "    </tr>\n",
       "    <tr>\n",
       "      <th>6462155</th>\n",
       "      <td>2023</td>\n",
       "      <td>RJ</td>\n",
       "      <td>3304201</td>\n",
       "      <td>11</td>\n",
       "      <td>11</td>\n",
       "      <td>0</td>\n",
       "      <td>85996</td>\n",
       "      <td>8599604</td>\n",
       "      <td>80993</td>\n",
       "    </tr>\n",
       "    <tr>\n",
       "      <th>6462156</th>\n",
       "      <td>2023</td>\n",
       "      <td>RJ</td>\n",
       "      <td>3304557</td>\n",
       "      <td>11</td>\n",
       "      <td>11</td>\n",
       "      <td>0</td>\n",
       "      <td>86500</td>\n",
       "      <td>8650003</td>\n",
       "      <td>85154</td>\n",
       "    </tr>\n",
       "  </tbody>\n",
       "</table>\n",
       "</div>"
      ],
      "text/plain": [
       "          ano sigla_uf id_municipio  quantidade_vinculos_ativos  \\\n",
       "6462152  2023       RJ      3303401                          11   \n",
       "6462153  2023       RJ      3304557                          11   \n",
       "6462154  2023       RJ      3304557                          11   \n",
       "6462155  2023       RJ      3304201                          11   \n",
       "6462156  2023       RJ      3304557                          11   \n",
       "\n",
       "         quantidade_vinculos_clt  quantidade_vinculos_estatutarios cnae_2  \\\n",
       "6462152                       11                                 0  81125   \n",
       "6462153                       11                                 0  81125   \n",
       "6462154                       11                                 0  69206   \n",
       "6462155                       11                                 0  85996   \n",
       "6462156                       11                                 0  86500   \n",
       "\n",
       "        cnae_2_subclasse cnae_1  \n",
       "6462152          8112500  70408  \n",
       "6462153          8112500  70408  \n",
       "6462154          6920601  74128  \n",
       "6462155          8599604  80993  \n",
       "6462156          8650003  85154  "
      ]
     },
     "execution_count": 6,
     "metadata": {},
     "output_type": "execute_result"
    }
   ],
   "source": [
    "df.tail()"
   ]
  },
  {
   "cell_type": "code",
   "execution_count": 7,
   "id": "2bc4e88c",
   "metadata": {},
   "outputs": [],
   "source": [
    "cnaes_automotivas_1 = ['34']\n",
    "cnaes_petroleo_gas_1 = ['11','23']\n",
    "\n",
    "automotiva_1 = df[df['cnae_1'].str[0:2].isin(cnaes_automotivas_1)].groupby(by='ano').sum()\n",
    "petroleo_gas_1 = df[df['cnae_1'].str[0:2].isin(cnaes_petroleo_gas_1)].groupby(by='ano').sum()"
   ]
  },
  {
   "cell_type": "code",
   "execution_count": 8,
   "id": "029acdc2",
   "metadata": {},
   "outputs": [],
   "source": [
    "cnaes_automotivas_2_subclasse = ['2211100','2722801','2722802','2854200','2910701','2910702','2910703','2920401','2920402','2930101','2930102','2930103',\n",
    "                                 '2941700','2942500','2943300','2944100','2945000','2949201','2949299','2950600','3050400']\n",
    "#cnaes_automotivas_2 = ['22111','27228','27228','28542','29107','29107','29107','29204','29204','29301','29301','29301',\n",
    "#                                 '2941700','2942500','2943300','2944100','2945000','2949201','2949299','2950600','3050400']\n",
    "cnaes_petroleo_gas_2_subclasse = ['0600001','0899199','0910600','1910100','1921700','1922501', '1922502','1922599','2021500','2851800','3314714','3520401','3520402','4223500']\n",
    "#cnaes_petroleo_gas_2 = ['06000','08991','09106','19101','19217','19225', '19225','19225','20215','28518','33147','35204','35204','42235']\n",
    "\n",
    "automotiva_2 = df[df['cnae_2_subclasse'].isin(cnaes_automotivas_2_subclasse)].groupby(by='ano').sum()\n",
    "petroleo_gas_2 = df[df['cnae_2_subclasse'].isin(cnaes_petroleo_gas_2_subclasse)].groupby(by='ano').sum()"
   ]
  },
  {
   "cell_type": "code",
   "execution_count": 9,
   "id": "939419da",
   "metadata": {},
   "outputs": [
    {
     "data": {
      "text/plain": [
       "ano\n",
       "2006    10879\n",
       "2007    13128\n",
       "2008    16648\n",
       "2009    15963\n",
       "2010    20133\n",
       "2011    21466\n",
       "2012    19384\n",
       "2013    20196\n",
       "2014    19194\n",
       "2015    15655\n",
       "2016    13952\n",
       "2017    17577\n",
       "2018    18033\n",
       "2019    17892\n",
       "2020    16115\n",
       "2021    16704\n",
       "2022    18117\n",
       "2023    17731\n",
       "Name: quantidade_vinculos_ativos, dtype: Int64"
      ]
     },
     "execution_count": 9,
     "metadata": {},
     "output_type": "execute_result"
    }
   ],
   "source": [
    "automotiva_2['quantidade_vinculos_ativos']\n"
   ]
  },
  {
   "cell_type": "code",
   "execution_count": 10,
   "id": "d994a45e",
   "metadata": {},
   "outputs": [],
   "source": [
    "automotiva = pd.concat([automotiva_1, automotiva_2], ignore_index=False)\n",
    "petroleo_gas = pd.concat([petroleo_gas_1, petroleo_gas_2], ignore_index=False)"
   ]
  },
  {
   "cell_type": "code",
   "execution_count": 13,
   "id": "f9b8fd07",
   "metadata": {},
   "outputs": [],
   "source": [
    "automotiva[['quantidade_vinculos_ativos']].to_excel('p&g.xlsx')"
   ]
  },
  {
   "cell_type": "code",
   "execution_count": 14,
   "id": "b35f3146",
   "metadata": {},
   "outputs": [],
   "source": [
    "petroleo_gas[['quantidade_vinculos_ativos']].to_excel('automotiva.xlsx')"
   ]
  },
  {
   "cell_type": "code",
   "execution_count": null,
   "id": "c4b92df2",
   "metadata": {},
   "outputs": [],
   "source": []
  }
 ],
 "metadata": {
  "kernelspec": {
   "display_name": "myenv",
   "language": "python",
   "name": "python3"
  },
  "language_info": {
   "codemirror_mode": {
    "name": "ipython",
    "version": 3
   },
   "file_extension": ".py",
   "mimetype": "text/x-python",
   "name": "python",
   "nbconvert_exporter": "python",
   "pygments_lexer": "ipython3",
   "version": "3.12.11"
  }
 },
 "nbformat": 4,
 "nbformat_minor": 5
}
